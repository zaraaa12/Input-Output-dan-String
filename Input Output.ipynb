{
 "cells": [
  {
   "cell_type": "markdown",
   "id": "1adea82c",
   "metadata": {},
   "source": [
    "<h1>Input</h1>"
   ]
  },
  {
   "cell_type": "code",
   "execution_count": 3,
   "id": "893da076",
   "metadata": {},
   "outputs": [
    {
     "name": "stdout",
     "output_type": "stream",
     "text": [
      "Insert your first nameBilqis\n",
      "Insert your middle nameZahra\n",
      "Inser your last nameCantikkk\n",
      "Hello Bilqis Zahra Cantikkk !!!\n"
     ]
    }
   ],
   "source": [
    "first_name = input('Insert your first name')\n",
    "middle_name = input('Insert your middle name')\n",
    "last_name = input('Inser your last name')\n",
    "\n",
    "print(\"Hello\" , first_name,middle_name,last_name , \"!!!\")"
   ]
  },
  {
   "cell_type": "markdown",
   "id": "c450ab36",
   "metadata": {},
   "source": [
    "<h1>Menghitung Luas dan Keliling Persegi Panjang</h1>"
   ]
  },
  {
   "cell_type": "code",
   "execution_count": 13,
   "id": "6d0b3972",
   "metadata": {},
   "outputs": [
    {
     "name": "stdout",
     "output_type": "stream",
     "text": [
      "Insert nilai panjang :10\n",
      "Insert nilai luas :5\n",
      "Luas = 50\n",
      "Keliling = 30\n"
     ]
    }
   ],
   "source": [
    "nilai_p = input('Insert nilai panjang :')\n",
    "nilai_l = input('Insert nilai luas :')\n",
    "\n",
    "luas = int(nilai_p) * int(nilai_l)\n",
    "keliling = 2* (int(nilai_p) + int(nilai_l))\n",
    "               \n",
    "print(\"Luas =\", luas)\n",
    "print(\"Keliling =\", keliling)"
   ]
  },
  {
   "cell_type": "markdown",
   "id": "8aa6e68e",
   "metadata": {},
   "source": [
    "<h1>Output</h1>"
   ]
  },
  {
   "cell_type": "code",
   "execution_count": 25,
   "id": "4cafe5d1",
   "metadata": {},
   "outputs": [
    {
     "name": "stdout",
     "output_type": "stream",
     "text": [
      "2\n",
      "Desember\n",
      "2005\n",
      "\n",
      "2-Januari-2003\n",
      "\n",
      "2/Februari/2004\n"
     ]
    }
   ],
   "source": [
    "print(\"2\",\"Desember\",\"2005\",sep='\\n')\n",
    "print(sep='\\n')\n",
    "print(\"2\",\"Januari\",\"2003\",sep='-')\n",
    "print(sep='\\n')\n",
    "print(\"2\",\"Februari\",\"2004\",sep='/')"
   ]
  },
  {
   "cell_type": "code",
   "execution_count": 30,
   "id": "87c23ca6",
   "metadata": {},
   "outputs": [
    {
     "name": "stdout",
     "output_type": "stream",
     "text": [
      "1*3*5*7.\n",
      "1*****3*****5*****7.........."
     ]
    }
   ],
   "source": [
    "print(\"1\",\"3\",\"5\",\"7\",sep=\"*\",end=\".\" '\\n')\n",
    "print(\"1\",\"3\",\"5\",\"7\",sep=\"*\" * 5 ,end=\".\" * 10)\n"
   ]
  },
  {
   "cell_type": "code",
   "execution_count": 33,
   "id": "288d07b6",
   "metadata": {},
   "outputs": [
    {
     "name": "stdout",
     "output_type": "stream",
     "text": [
      "Luas Persegi dengan Lebar 10 dan Panjang 5 = 50\n"
     ]
    }
   ],
   "source": [
    "L = 10\n",
    "P = 5\n",
    "print(\"Luas Persegi dengan Lebar {} dan Panjang {} = {}\".format(L,P,L*P))"
   ]
  },
  {
   "cell_type": "markdown",
   "id": "29dbd3e1",
   "metadata": {},
   "source": [
    "<h1>Memformat dengan Indeks</h1>"
   ]
  },
  {
   "cell_type": "code",
   "execution_count": 36,
   "id": "6a6dbb37",
   "metadata": {},
   "outputs": [
    {
     "name": "stdout",
     "output_type": "stream",
     "text": [
      "Name of month January,February\n"
     ]
    }
   ],
   "source": [
    "month_1 = \"January\"\n",
    "month_2 = \"February\"\n",
    "month_3 = \"March\"\n",
    "\n",
    "print(\"Name of month {0},{1}\".format(month_1,month_2))"
   ]
  },
  {
   "cell_type": "code",
   "execution_count": 40,
   "id": "507f1012",
   "metadata": {},
   "outputs": [
    {
     "name": "stdout",
     "output_type": "stream",
     "text": [
      "My name Zaraa Bilqis\n"
     ]
    }
   ],
   "source": [
    "print(\"My name {fname} {lname}\".format(fname='Zaraa',lname='Bilqis'))"
   ]
  },
  {
   "cell_type": "markdown",
   "id": "096cf752",
   "metadata": {},
   "source": [
    "<h1>Indexing dan String</h1>"
   ]
  },
  {
   "cell_type": "code",
   "execution_count": 50,
   "id": "435d8af7",
   "metadata": {},
   "outputs": [
    {
     "name": "stdout",
     "output_type": "stream",
     "text": [
      "H\n",
      "Harvard\n",
      "Harvard University\n",
      "y\n",
      "ytisrevinU dravraH\n"
     ]
    }
   ],
   "source": [
    "campus = \"Harvard University\"\n",
    "\n",
    "print(campus[0])\n",
    "\n",
    "#Menggunakan Range\n",
    "print(campus[0:7])\n",
    "print(campus[0:])\n",
    "print(campus[-1:])\n",
    "\n",
    "#Reverse\n",
    "print(campus[::-1])"
   ]
  },
  {
   "cell_type": "markdown",
   "id": "1744cca4",
   "metadata": {},
   "source": [
    "<h1>Interpolasi menggunakan String</h1>"
   ]
  },
  {
   "cell_type": "code",
   "execution_count": 52,
   "id": "e72b50df",
   "metadata": {},
   "outputs": [
    {
     "name": "stdout",
     "output_type": "stream",
     "text": [
      "Luas Persegi = 200\n",
      "Keliling Persegi = 60\n"
     ]
    }
   ],
   "source": [
    "p = 10\n",
    "l = 20\n",
    "\n",
    "print(f'Luas Persegi = {l*p}')\n",
    "print(f'Keliling Persegi = {2*(p+l)}')"
   ]
  },
  {
   "cell_type": "markdown",
   "id": "704542cb",
   "metadata": {},
   "source": [
    "<h1>Fungsi</h1>"
   ]
  },
  {
   "cell_type": "code",
   "execution_count": 53,
   "id": "a94dd19e",
   "metadata": {},
   "outputs": [
    {
     "name": "stdout",
     "output_type": "stream",
     "text": [
      "['Alexa', ' Xena', ' Queen']\n",
      "Alexa@ Xena@ Queen\n"
     ]
    }
   ],
   "source": [
    "student_name = \"Alexa, Xena, Queen\"\n",
    "\n",
    "print(student_name.split(','))  #Merubah dari string ke list\n",
    "print('@'.join(student_name.split(',')))  #Merubah dari list ke string "
   ]
  },
  {
   "cell_type": "code",
   "execution_count": 9,
   "id": "b008c744",
   "metadata": {},
   "outputs": [
    {
     "name": "stdout",
     "output_type": "stream",
     "text": [
      "Insert your Name :Bilqis zahra\n",
      "Insert your Birthday :02/12/2005\n",
      "Your name : Bilqis zahra\n",
      "Date : 02\n",
      "Month : 12\n",
      "Year : 2005\n",
      "Initial : Bz\n"
     ]
    }
   ],
   "source": [
    "name = input(\"Insert your Name :\")\n",
    "birthday = input(\"Insert your Birthday :\")\n",
    "\n",
    "birth = birthday.split('/')\n",
    "names = name.split()\n",
    "\n",
    "print(f\"Your name : {name}\")\n",
    "print(f\"Date : {birth[0]}\")\n",
    "print(f\"Month : {birth[1]}\")\n",
    "print(f\"Year : {birth[2]}\")\n",
    "print(f\"Initial : {names[0][0]}{names[1][0]}\")"
   ]
  },
  {
   "cell_type": "code",
   "execution_count": null,
   "id": "ebea451f",
   "metadata": {},
   "outputs": [],
   "source": []
  }
 ],
 "metadata": {
  "kernelspec": {
   "display_name": "Python 3 (ipykernel)",
   "language": "python",
   "name": "python3"
  },
  "language_info": {
   "codemirror_mode": {
    "name": "ipython",
    "version": 3
   },
   "file_extension": ".py",
   "mimetype": "text/x-python",
   "name": "python",
   "nbconvert_exporter": "python",
   "pygments_lexer": "ipython3",
   "version": "3.9.12"
  }
 },
 "nbformat": 4,
 "nbformat_minor": 5
}
